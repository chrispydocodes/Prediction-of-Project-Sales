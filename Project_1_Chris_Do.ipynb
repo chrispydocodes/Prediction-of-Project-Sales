{
  "nbformat": 4,
  "nbformat_minor": 0,
  "metadata": {
    "colab": {
      "provenance": [],
      "authorship_tag": "ABX9TyNgvFX8K+KFvlYWexWmrt8z",
      "include_colab_link": true
    },
    "kernelspec": {
      "name": "python3",
      "display_name": "Python 3"
    },
    "language_info": {
      "name": "python"
    }
  },
  "cells": [
    {
      "cell_type": "markdown",
      "metadata": {
        "id": "view-in-github",
        "colab_type": "text"
      },
      "source": [
        "<a href=\"https://colab.research.google.com/github/chrispydocodes/Prediction-of-Project-Sales/blob/main/Project_1_Chris_Do.ipynb\" target=\"_parent\"><img src=\"https://colab.research.google.com/assets/colab-badge.svg\" alt=\"Open In Colab\"/></a>"
      ]
    },
    {
      "cell_type": "markdown",
      "source": [
        "# Prediction of Product Sales\n",
        "### Author: Chris Do"
      ],
      "metadata": {
        "id": "SI5MimpsOfyB"
      }
    },
    {
      "cell_type": "markdown",
      "source": [
        "# Project Overview"
      ],
      "metadata": {
        "id": "BAMQ-18bOwXi"
      }
    },
    {
      "cell_type": "markdown",
      "source": [
        "- This project serves as a sales prediction for food items sold at various stores. \n",
        "- The goal of this is to help the retailer understand the properties of products and outlets that play crucial roles in increasing sales."
      ],
      "metadata": {
        "id": "m4RhU0zzpuO8"
      }
    },
    {
      "cell_type": "markdown",
      "source": [
        "# Load and Inspect Data"
      ],
      "metadata": {
        "id": "XdYitz9AO9eR"
      }
    },
    {
      "cell_type": "markdown",
      "source": [
        "- Download the data [here](https://drive.google.com/file/d/1syH81TVrbBsdymLT_jl2JIf6IjPXtSQw/view), then import the necessary libraries in order to load and manipulate it."
      ],
      "metadata": {
        "id": "wYkAAwiKprMc"
      }
    },
    {
      "cell_type": "markdown",
      "source": [
        "First, we're going to import Pandas in order to load our data as a DataFrame."
      ],
      "metadata": {
        "id": "1xl5KVO3qt65"
      }
    },
    {
      "cell_type": "code",
      "source": [
        "import pandas as pd"
      ],
      "metadata": {
        "id": "2ieMAURVqN4C"
      },
      "execution_count": 1,
      "outputs": []
    },
    {
      "cell_type": "markdown",
      "source": [
        "Next, we define our data's file path as `filename`."
      ],
      "metadata": {
        "id": "w26ZiyDhqeIg"
      }
    },
    {
      "cell_type": "code",
      "source": [
        "filename = '/content/sales_predictions.csv'"
      ],
      "metadata": {
        "id": "YgG55uFjqPuy"
      },
      "execution_count": 2,
      "outputs": []
    },
    {
      "cell_type": "markdown",
      "source": [
        "Then, we create a DataFrame with `pd.read_csv()` and name it `df`."
      ],
      "metadata": {
        "id": "zia0LSkIqmlg"
      }
    },
    {
      "cell_type": "code",
      "source": [
        "df = pd.read_csv(filename)"
      ],
      "metadata": {
        "id": "YhDt2m_HqTuS"
      },
      "execution_count": 3,
      "outputs": []
    },
    {
      "cell_type": "markdown",
      "source": [
        "Now, we will view our DataFrame's info and its first 5 entries."
      ],
      "metadata": {
        "id": "Gfc0XLTmrPC2"
      }
    },
    {
      "cell_type": "code",
      "source": [
        "df.info()"
      ],
      "metadata": {
        "colab": {
          "base_uri": "https://localhost:8080/"
        },
        "id": "3Q8IhWBwrcx6",
        "outputId": "bcaa6fe5-18dc-40cd-95d3-57fc46438c07"
      },
      "execution_count": 4,
      "outputs": [
        {
          "output_type": "stream",
          "name": "stdout",
          "text": [
            "<class 'pandas.core.frame.DataFrame'>\n",
            "RangeIndex: 8523 entries, 0 to 8522\n",
            "Data columns (total 12 columns):\n",
            " #   Column                     Non-Null Count  Dtype  \n",
            "---  ------                     --------------  -----  \n",
            " 0   Item_Identifier            8523 non-null   object \n",
            " 1   Item_Weight                7060 non-null   float64\n",
            " 2   Item_Fat_Content           8523 non-null   object \n",
            " 3   Item_Visibility            8523 non-null   float64\n",
            " 4   Item_Type                  8523 non-null   object \n",
            " 5   Item_MRP                   8523 non-null   float64\n",
            " 6   Outlet_Identifier          8523 non-null   object \n",
            " 7   Outlet_Establishment_Year  8523 non-null   int64  \n",
            " 8   Outlet_Size                6113 non-null   object \n",
            " 9   Outlet_Location_Type       8523 non-null   object \n",
            " 10  Outlet_Type                8523 non-null   object \n",
            " 11  Item_Outlet_Sales          8523 non-null   float64\n",
            "dtypes: float64(4), int64(1), object(7)\n",
            "memory usage: 799.2+ KB\n"
          ]
        }
      ]
    },
    {
      "cell_type": "code",
      "source": [
        "df.head()"
      ],
      "metadata": {
        "colab": {
          "base_uri": "https://localhost:8080/",
          "height": 206
        },
        "id": "2Ya5EAn2remt",
        "outputId": "0dc0f1c5-a8c4-439e-ae49-f3c8ee052ba1"
      },
      "execution_count": 5,
      "outputs": [
        {
          "output_type": "execute_result",
          "data": {
            "text/plain": [
              "  Item_Identifier  Item_Weight Item_Fat_Content  Item_Visibility  \\\n",
              "0           FDA15         9.30          Low Fat         0.016047   \n",
              "1           DRC01         5.92          Regular         0.019278   \n",
              "2           FDN15        17.50          Low Fat         0.016760   \n",
              "3           FDX07        19.20          Regular         0.000000   \n",
              "4           NCD19         8.93          Low Fat         0.000000   \n",
              "\n",
              "               Item_Type  Item_MRP Outlet_Identifier  \\\n",
              "0                  Dairy  249.8092            OUT049   \n",
              "1            Soft Drinks   48.2692            OUT018   \n",
              "2                   Meat  141.6180            OUT049   \n",
              "3  Fruits and Vegetables  182.0950            OUT010   \n",
              "4              Household   53.8614            OUT013   \n",
              "\n",
              "   Outlet_Establishment_Year Outlet_Size Outlet_Location_Type  \\\n",
              "0                       1999      Medium               Tier 1   \n",
              "1                       2009      Medium               Tier 3   \n",
              "2                       1999      Medium               Tier 1   \n",
              "3                       1998         NaN               Tier 3   \n",
              "4                       1987        High               Tier 3   \n",
              "\n",
              "         Outlet_Type  Item_Outlet_Sales  \n",
              "0  Supermarket Type1          3735.1380  \n",
              "1  Supermarket Type2           443.4228  \n",
              "2  Supermarket Type1          2097.2700  \n",
              "3      Grocery Store           732.3800  \n",
              "4  Supermarket Type1           994.7052  "
            ],
            "text/html": [
              "\n",
              "  <div id=\"df-070c1b0e-2f28-4127-8201-0c1d3bc31fdd\">\n",
              "    <div class=\"colab-df-container\">\n",
              "      <div>\n",
              "<style scoped>\n",
              "    .dataframe tbody tr th:only-of-type {\n",
              "        vertical-align: middle;\n",
              "    }\n",
              "\n",
              "    .dataframe tbody tr th {\n",
              "        vertical-align: top;\n",
              "    }\n",
              "\n",
              "    .dataframe thead th {\n",
              "        text-align: right;\n",
              "    }\n",
              "</style>\n",
              "<table border=\"1\" class=\"dataframe\">\n",
              "  <thead>\n",
              "    <tr style=\"text-align: right;\">\n",
              "      <th></th>\n",
              "      <th>Item_Identifier</th>\n",
              "      <th>Item_Weight</th>\n",
              "      <th>Item_Fat_Content</th>\n",
              "      <th>Item_Visibility</th>\n",
              "      <th>Item_Type</th>\n",
              "      <th>Item_MRP</th>\n",
              "      <th>Outlet_Identifier</th>\n",
              "      <th>Outlet_Establishment_Year</th>\n",
              "      <th>Outlet_Size</th>\n",
              "      <th>Outlet_Location_Type</th>\n",
              "      <th>Outlet_Type</th>\n",
              "      <th>Item_Outlet_Sales</th>\n",
              "    </tr>\n",
              "  </thead>\n",
              "  <tbody>\n",
              "    <tr>\n",
              "      <th>0</th>\n",
              "      <td>FDA15</td>\n",
              "      <td>9.30</td>\n",
              "      <td>Low Fat</td>\n",
              "      <td>0.016047</td>\n",
              "      <td>Dairy</td>\n",
              "      <td>249.8092</td>\n",
              "      <td>OUT049</td>\n",
              "      <td>1999</td>\n",
              "      <td>Medium</td>\n",
              "      <td>Tier 1</td>\n",
              "      <td>Supermarket Type1</td>\n",
              "      <td>3735.1380</td>\n",
              "    </tr>\n",
              "    <tr>\n",
              "      <th>1</th>\n",
              "      <td>DRC01</td>\n",
              "      <td>5.92</td>\n",
              "      <td>Regular</td>\n",
              "      <td>0.019278</td>\n",
              "      <td>Soft Drinks</td>\n",
              "      <td>48.2692</td>\n",
              "      <td>OUT018</td>\n",
              "      <td>2009</td>\n",
              "      <td>Medium</td>\n",
              "      <td>Tier 3</td>\n",
              "      <td>Supermarket Type2</td>\n",
              "      <td>443.4228</td>\n",
              "    </tr>\n",
              "    <tr>\n",
              "      <th>2</th>\n",
              "      <td>FDN15</td>\n",
              "      <td>17.50</td>\n",
              "      <td>Low Fat</td>\n",
              "      <td>0.016760</td>\n",
              "      <td>Meat</td>\n",
              "      <td>141.6180</td>\n",
              "      <td>OUT049</td>\n",
              "      <td>1999</td>\n",
              "      <td>Medium</td>\n",
              "      <td>Tier 1</td>\n",
              "      <td>Supermarket Type1</td>\n",
              "      <td>2097.2700</td>\n",
              "    </tr>\n",
              "    <tr>\n",
              "      <th>3</th>\n",
              "      <td>FDX07</td>\n",
              "      <td>19.20</td>\n",
              "      <td>Regular</td>\n",
              "      <td>0.000000</td>\n",
              "      <td>Fruits and Vegetables</td>\n",
              "      <td>182.0950</td>\n",
              "      <td>OUT010</td>\n",
              "      <td>1998</td>\n",
              "      <td>NaN</td>\n",
              "      <td>Tier 3</td>\n",
              "      <td>Grocery Store</td>\n",
              "      <td>732.3800</td>\n",
              "    </tr>\n",
              "    <tr>\n",
              "      <th>4</th>\n",
              "      <td>NCD19</td>\n",
              "      <td>8.93</td>\n",
              "      <td>Low Fat</td>\n",
              "      <td>0.000000</td>\n",
              "      <td>Household</td>\n",
              "      <td>53.8614</td>\n",
              "      <td>OUT013</td>\n",
              "      <td>1987</td>\n",
              "      <td>High</td>\n",
              "      <td>Tier 3</td>\n",
              "      <td>Supermarket Type1</td>\n",
              "      <td>994.7052</td>\n",
              "    </tr>\n",
              "  </tbody>\n",
              "</table>\n",
              "</div>\n",
              "      <button class=\"colab-df-convert\" onclick=\"convertToInteractive('df-070c1b0e-2f28-4127-8201-0c1d3bc31fdd')\"\n",
              "              title=\"Convert this dataframe to an interactive table.\"\n",
              "              style=\"display:none;\">\n",
              "        \n",
              "  <svg xmlns=\"http://www.w3.org/2000/svg\" height=\"24px\"viewBox=\"0 0 24 24\"\n",
              "       width=\"24px\">\n",
              "    <path d=\"M0 0h24v24H0V0z\" fill=\"none\"/>\n",
              "    <path d=\"M18.56 5.44l.94 2.06.94-2.06 2.06-.94-2.06-.94-.94-2.06-.94 2.06-2.06.94zm-11 1L8.5 8.5l.94-2.06 2.06-.94-2.06-.94L8.5 2.5l-.94 2.06-2.06.94zm10 10l.94 2.06.94-2.06 2.06-.94-2.06-.94-.94-2.06-.94 2.06-2.06.94z\"/><path d=\"M17.41 7.96l-1.37-1.37c-.4-.4-.92-.59-1.43-.59-.52 0-1.04.2-1.43.59L10.3 9.45l-7.72 7.72c-.78.78-.78 2.05 0 2.83L4 21.41c.39.39.9.59 1.41.59.51 0 1.02-.2 1.41-.59l7.78-7.78 2.81-2.81c.8-.78.8-2.07 0-2.86zM5.41 20L4 18.59l7.72-7.72 1.47 1.35L5.41 20z\"/>\n",
              "  </svg>\n",
              "      </button>\n",
              "      \n",
              "  <style>\n",
              "    .colab-df-container {\n",
              "      display:flex;\n",
              "      flex-wrap:wrap;\n",
              "      gap: 12px;\n",
              "    }\n",
              "\n",
              "    .colab-df-convert {\n",
              "      background-color: #E8F0FE;\n",
              "      border: none;\n",
              "      border-radius: 50%;\n",
              "      cursor: pointer;\n",
              "      display: none;\n",
              "      fill: #1967D2;\n",
              "      height: 32px;\n",
              "      padding: 0 0 0 0;\n",
              "      width: 32px;\n",
              "    }\n",
              "\n",
              "    .colab-df-convert:hover {\n",
              "      background-color: #E2EBFA;\n",
              "      box-shadow: 0px 1px 2px rgba(60, 64, 67, 0.3), 0px 1px 3px 1px rgba(60, 64, 67, 0.15);\n",
              "      fill: #174EA6;\n",
              "    }\n",
              "\n",
              "    [theme=dark] .colab-df-convert {\n",
              "      background-color: #3B4455;\n",
              "      fill: #D2E3FC;\n",
              "    }\n",
              "\n",
              "    [theme=dark] .colab-df-convert:hover {\n",
              "      background-color: #434B5C;\n",
              "      box-shadow: 0px 1px 3px 1px rgba(0, 0, 0, 0.15);\n",
              "      filter: drop-shadow(0px 1px 2px rgba(0, 0, 0, 0.3));\n",
              "      fill: #FFFFFF;\n",
              "    }\n",
              "  </style>\n",
              "\n",
              "      <script>\n",
              "        const buttonEl =\n",
              "          document.querySelector('#df-070c1b0e-2f28-4127-8201-0c1d3bc31fdd button.colab-df-convert');\n",
              "        buttonEl.style.display =\n",
              "          google.colab.kernel.accessAllowed ? 'block' : 'none';\n",
              "\n",
              "        async function convertToInteractive(key) {\n",
              "          const element = document.querySelector('#df-070c1b0e-2f28-4127-8201-0c1d3bc31fdd');\n",
              "          const dataTable =\n",
              "            await google.colab.kernel.invokeFunction('convertToInteractive',\n",
              "                                                     [key], {});\n",
              "          if (!dataTable) return;\n",
              "\n",
              "          const docLinkHtml = 'Like what you see? Visit the ' +\n",
              "            '<a target=\"_blank\" href=https://colab.research.google.com/notebooks/data_table.ipynb>data table notebook</a>'\n",
              "            + ' to learn more about interactive tables.';\n",
              "          element.innerHTML = '';\n",
              "          dataTable['output_type'] = 'display_data';\n",
              "          await google.colab.output.renderOutput(dataTable, element);\n",
              "          const docLink = document.createElement('div');\n",
              "          docLink.innerHTML = docLinkHtml;\n",
              "          element.appendChild(docLink);\n",
              "        }\n",
              "      </script>\n",
              "    </div>\n",
              "  </div>\n",
              "  "
            ]
          },
          "metadata": {},
          "execution_count": 5
        }
      ]
    },
    {
      "cell_type": "markdown",
      "source": [
        "# Clean Data"
      ],
      "metadata": {
        "id": "eMa4PgqMO_rq"
      }
    },
    {
      "cell_type": "markdown",
      "source": [
        "Let's go through our data and clean it up so we have a better time understanding and using it."
      ],
      "metadata": {
        "id": "rrj4K4J3Fvi0"
      }
    },
    {
      "cell_type": "markdown",
      "source": [
        "## Data Dictionary"
      ],
      "metadata": {
        "id": "dZV3dTMdGMSG"
      }
    },
    {
      "cell_type": "markdown",
      "source": [
        "- `Item_Identifier`:\tUnique product ID\n",
        "- `Item_Weight`:\tWeight of product\n",
        "- `Item_Fat_Content`:\tWhether the product is low fat or regular\n",
        "- `Item_Visibility`: The percentage of total display area of all products in a store allocated to the particular product\n",
        "- `Item_Type`:\tThe category to which the product belongs\n",
        "- `Item_MRP`:\tMaximum Retail Price (list price) of the product\n",
        "- `Outlet_Identifier`:\tUnique store ID\n",
        "- `Outlet_Establishment_Year`:\tThe year in which store was established\n",
        "- `Outlet_Size`:\tThe size of the store in terms of ground area covered\n",
        "- `Outlet_Location_Type`:\tThe type of area in which the store is located\n",
        "- `Outlet_Type`:\tWhether the outlet is a grocery store or some sort of supermarket\n",
        "- `Item_Outlet_Sales`:\tSales of the product in the particular store. This is the target variable to be predicted."
      ],
      "metadata": {
        "id": "dIWlYKjHI4NO"
      }
    },
    {
      "cell_type": "markdown",
      "source": [
        "## Rows and Columns\n"
      ],
      "metadata": {
        "id": "SajfjIZOrsFg"
      }
    },
    {
      "cell_type": "markdown",
      "source": [
        "Adding the `.shape` attribute in front of out DataFrame tells us its number of dimensions, as well as the number of items for each dimension."
      ],
      "metadata": {
        "id": "H7bY5K92Jj4_"
      }
    },
    {
      "cell_type": "code",
      "source": [
        "df.shape"
      ],
      "metadata": {
        "colab": {
          "base_uri": "https://localhost:8080/"
        },
        "id": "IsxOzEvNr1Dv",
        "outputId": "bad51623-78ac-4783-d206-e2e6876b1d52"
      },
      "execution_count": 6,
      "outputs": [
        {
          "output_type": "execute_result",
          "data": {
            "text/plain": [
              "(8523, 12)"
            ]
          },
          "metadata": {},
          "execution_count": 6
        }
      ]
    },
    {
      "cell_type": "markdown",
      "source": [
        "- Our DataFrame has 8523 rows (entries) under 12 columns"
      ],
      "metadata": {
        "id": "1_HULy1Hr25c"
      }
    },
    {
      "cell_type": "markdown",
      "source": [
        "## Variable Datatypes"
      ],
      "metadata": {
        "id": "RAMZTDWPBk7K"
      }
    },
    {
      "cell_type": "markdown",
      "source": [
        "We can use the `.dtypes` attribute to view the datatype of each variable in our DataFrame."
      ],
      "metadata": {
        "id": "5X2nMciuKS6L"
      }
    },
    {
      "cell_type": "code",
      "source": [
        "df.dtypes"
      ],
      "metadata": {
        "colab": {
          "base_uri": "https://localhost:8080/"
        },
        "id": "JOmqm7LBBnEa",
        "outputId": "09ce9b2f-f374-494d-b55d-9b37c2bdc9dd"
      },
      "execution_count": 7,
      "outputs": [
        {
          "output_type": "execute_result",
          "data": {
            "text/plain": [
              "Item_Identifier               object\n",
              "Item_Weight                  float64\n",
              "Item_Fat_Content              object\n",
              "Item_Visibility              float64\n",
              "Item_Type                     object\n",
              "Item_MRP                     float64\n",
              "Outlet_Identifier             object\n",
              "Outlet_Establishment_Year      int64\n",
              "Outlet_Size                   object\n",
              "Outlet_Location_Type          object\n",
              "Outlet_Type                   object\n",
              "Item_Outlet_Sales            float64\n",
              "dtype: object"
            ]
          },
          "metadata": {},
          "execution_count": 7
        }
      ]
    },
    {
      "cell_type": "markdown",
      "source": [
        "- Our DataFrame includes objects, floats, and integers as variables."
      ],
      "metadata": {
        "id": "IrzoEsPuCuZg"
      }
    },
    {
      "cell_type": "markdown",
      "source": [
        "## Duplicate Entries"
      ],
      "metadata": {
        "id": "GBowmR8nC0MW"
      }
    },
    {
      "cell_type": "markdown",
      "source": [
        "The `.duplicated()` method will check for duplicate values in our DataFrame, returning either `True` or `False` for each entry. We can also use the `.sum()` method to return the total number of `True` (duplicate) values rather than checking each row ourselves."
      ],
      "metadata": {
        "id": "DscVtDpUKsts"
      }
    },
    {
      "cell_type": "code",
      "source": [
        "df.duplicated().sum()"
      ],
      "metadata": {
        "colab": {
          "base_uri": "https://localhost:8080/"
        },
        "id": "0T5AP4eCFZ5m",
        "outputId": "79266b66-74f3-43c3-9142-baab1a74c16d"
      },
      "execution_count": 8,
      "outputs": [
        {
          "output_type": "execute_result",
          "data": {
            "text/plain": [
              "0"
            ]
          },
          "metadata": {},
          "execution_count": 8
        }
      ]
    },
    {
      "cell_type": "markdown",
      "source": [
        "- Thankfully, we don't have to worry about any duplicate entries in our data."
      ],
      "metadata": {
        "id": "eMIIFuDYLaUK"
      }
    },
    {
      "cell_type": "markdown",
      "source": [
        "## Missing Values"
      ],
      "metadata": {
        "id": "DWReOFjqDMRR"
      }
    },
    {
      "cell_type": "markdown",
      "source": [
        "The `.isna()` method checks for null/missing values in each entry. Again, we will add `.sum()` to return a total number of missing values."
      ],
      "metadata": {
        "id": "TfGy-QUtMTAT"
      }
    },
    {
      "cell_type": "code",
      "source": [
        "df.isna().sum()"
      ],
      "metadata": {
        "colab": {
          "base_uri": "https://localhost:8080/"
        },
        "id": "teIT1l-wMfsS",
        "outputId": "62e47f5d-dee6-445d-896d-328119d6afd2"
      },
      "execution_count": 9,
      "outputs": [
        {
          "output_type": "execute_result",
          "data": {
            "text/plain": [
              "Item_Identifier                 0\n",
              "Item_Weight                  1463\n",
              "Item_Fat_Content                0\n",
              "Item_Visibility                 0\n",
              "Item_Type                       0\n",
              "Item_MRP                        0\n",
              "Outlet_Identifier               0\n",
              "Outlet_Establishment_Year       0\n",
              "Outlet_Size                  2410\n",
              "Outlet_Location_Type            0\n",
              "Outlet_Type                     0\n",
              "Item_Outlet_Sales               0\n",
              "dtype: int64"
            ]
          },
          "metadata": {},
          "execution_count": 9
        }
      ]
    },
    {
      "cell_type": "markdown",
      "source": [
        "- Our data is missing 1463 `Item_Weight` values and 2410 `Outlet_Size` values\n"
      ],
      "metadata": {
        "id": "Au30xCLCOnZm"
      }
    },
    {
      "cell_type": "markdown",
      "source": [
        "## Addressing Missing Values"
      ],
      "metadata": {
        "id": "1IiMjZfADO-1"
      }
    },
    {
      "cell_type": "markdown",
      "source": [
        "### Item Weight\n",
        "Item weight can be important in predicting its sales, so we'll need at least an estimated weight for each item.\n",
        "- We'll impute our missing weight values with the average weight of the rest of our items.\n",
        "\n",
        "We can calculate the mean of the `Item_Weight` column with `.mean()`, then round the result with `.round()`. \n",
        "\n",
        "Then, we'll save this as a new variable named `mean_weight`."
      ],
      "metadata": {
        "id": "957oEPqsQ9Re"
      }
    },
    {
      "cell_type": "code",
      "source": [
        "mean_weight = df['Item_Weight'].mean().round(2)\n",
        "mean_weight"
      ],
      "metadata": {
        "colab": {
          "base_uri": "https://localhost:8080/"
        },
        "id": "gtnNksTon0F7",
        "outputId": "fccfb0cf-5a51-4518-aaf8-2715347e19fd"
      },
      "execution_count": 10,
      "outputs": [
        {
          "output_type": "execute_result",
          "data": {
            "text/plain": [
              "12.86"
            ]
          },
          "metadata": {},
          "execution_count": 10
        }
      ]
    },
    {
      "cell_type": "markdown",
      "source": [
        "The `.fillna()` method fills in missing values. Adding the `inplace=True` argument overwrites our DataFrame."
      ],
      "metadata": {
        "id": "BAqqnFOgQngg"
      }
    },
    {
      "cell_type": "code",
      "source": [
        "df['Item_Weight'].fillna(mean_weight, inplace=True)"
      ],
      "metadata": {
        "id": "OonG71qNQhCm"
      },
      "execution_count": 11,
      "outputs": []
    },
    {
      "cell_type": "markdown",
      "source": [
        "### Outlet Size\n",
        "Let's impute our missing `Outlet_Size` values with a new category, `Missing`. This allows us to continue using the rest of the data from the column."
      ],
      "metadata": {
        "id": "QHuTIGzEpIrH"
      }
    },
    {
      "cell_type": "code",
      "source": [
        "df['Outlet_Size'].fillna('Missing', inplace=True)"
      ],
      "metadata": {
        "id": "Ica1EoOgpkEg"
      },
      "execution_count": 21,
      "outputs": []
    },
    {
      "cell_type": "markdown",
      "source": [
        "## Double Checking for Missing Values"
      ],
      "metadata": {
        "id": "tBLc213oDSPz"
      }
    },
    {
      "cell_type": "code",
      "source": [
        "df.isna().sum()"
      ],
      "metadata": {
        "colab": {
          "base_uri": "https://localhost:8080/"
        },
        "id": "9WGnelofRMYB",
        "outputId": "ba952f86-e98c-44b8-e359-8c4252d5f077"
      },
      "execution_count": 22,
      "outputs": [
        {
          "output_type": "execute_result",
          "data": {
            "text/plain": [
              "Item_Identifier              0\n",
              "Item_Weight                  0\n",
              "Item_Fat_Content             0\n",
              "Item_Visibility              0\n",
              "Item_Type                    0\n",
              "Item_MRP                     0\n",
              "Outlet_Identifier            0\n",
              "Outlet_Establishment_Year    0\n",
              "Outlet_Size                  0\n",
              "Outlet_Location_Type         0\n",
              "Outlet_Type                  0\n",
              "Item_Outlet_Sales            0\n",
              "dtype: int64"
            ]
          },
          "metadata": {},
          "execution_count": 22
        }
      ]
    },
    {
      "cell_type": "markdown",
      "source": [
        "- We have no missing values left in our data."
      ],
      "metadata": {
        "id": "ynoVAcvWRNEj"
      }
    },
    {
      "cell_type": "markdown",
      "source": [
        "## Inconsistent Categories/Entries"
      ],
      "metadata": {
        "id": "vYx-FXOtDWsZ"
      }
    },
    {
      "cell_type": "markdown",
      "source": [
        "Let's check our columns for inconsistent entries, using [Data Dictionary](https://colab.research.google.com/drive/1klPeDMEXBdHBcPrabNwKmDhXwXUw6cWY#scrollTo=dIWlYKjHI4NO) for reference as to which categories should be under each column."
      ],
      "metadata": {
        "id": "OozE3wiyRq_d"
      }
    },
    {
      "cell_type": "markdown",
      "source": [
        "First, we get a list of our column datatypes."
      ],
      "metadata": {
        "id": "0QZwC4yiRvjj"
      }
    },
    {
      "cell_type": "code",
      "source": [
        "df.dtypes"
      ],
      "metadata": {
        "colab": {
          "base_uri": "https://localhost:8080/"
        },
        "id": "-AEIX-wfR3BK",
        "outputId": "3ecd81c4-220a-40a1-9c43-8c7c3f5ac029"
      },
      "execution_count": 14,
      "outputs": [
        {
          "output_type": "execute_result",
          "data": {
            "text/plain": [
              "Item_Identifier               object\n",
              "Item_Weight                  float64\n",
              "Item_Fat_Content              object\n",
              "Item_Visibility              float64\n",
              "Item_Type                     object\n",
              "Item_MRP                     float64\n",
              "Outlet_Identifier             object\n",
              "Outlet_Establishment_Year      int64\n",
              "Outlet_Size                   object\n",
              "Outlet_Location_Type          object\n",
              "Outlet_Type                   object\n",
              "Item_Outlet_Sales            float64\n",
              "dtype: object"
            ]
          },
          "metadata": {},
          "execution_count": 14
        }
      ]
    },
    {
      "cell_type": "markdown",
      "source": [
        "The `.value_counts()` method returns the unique values of each column."
      ],
      "metadata": {
        "id": "64uJoOh1SMkD"
      }
    },
    {
      "cell_type": "markdown",
      "source": [
        "### Item Fat Content"
      ],
      "metadata": {
        "id": "aJuNEYfST_nl"
      }
    },
    {
      "cell_type": "code",
      "source": [
        "df['Item_Fat_Content'].value_counts()"
      ],
      "metadata": {
        "colab": {
          "base_uri": "https://localhost:8080/"
        },
        "id": "PiOTFdh8SJHM",
        "outputId": "a0bbab52-444c-465c-900c-20aef21addc5"
      },
      "execution_count": 15,
      "outputs": [
        {
          "output_type": "execute_result",
          "data": {
            "text/plain": [
              "Low Fat    5089\n",
              "Regular    2889\n",
              "LF          316\n",
              "reg         117\n",
              "low fat     112\n",
              "Name: Item_Fat_Content, dtype: int64"
            ]
          },
          "metadata": {},
          "execution_count": 15
        }
      ]
    },
    {
      "cell_type": "markdown",
      "source": [
        "There should only be `Low Fat` or `Regular` values, so we'll replace `LF`,`reg`, and `low fat` using the `.replace()` method."
      ],
      "metadata": {
        "id": "pDff2nuQSrMh"
      }
    },
    {
      "cell_type": "code",
      "source": [
        "df['Item_Fat_Content'].replace('LF','Low Fat',inplace=True)\n",
        "df['Item_Fat_Content'].replace('low fat','Low Fat',inplace=True)\n",
        "df['Item_Fat_Content'].replace('reg','Regular',inplace=True)\n",
        "df['Item_Fat_Content'].value_counts()\n"
      ],
      "metadata": {
        "colab": {
          "base_uri": "https://localhost:8080/"
        },
        "id": "nt75LsPTS4x2",
        "outputId": "fb80847a-1312-4682-9d30-d9e3597b8dd4"
      },
      "execution_count": 16,
      "outputs": [
        {
          "output_type": "execute_result",
          "data": {
            "text/plain": [
              "Low Fat    5517\n",
              "Regular    3006\n",
              "Name: Item_Fat_Content, dtype: int64"
            ]
          },
          "metadata": {},
          "execution_count": 16
        }
      ]
    },
    {
      "cell_type": "markdown",
      "source": [
        "### Item Type"
      ],
      "metadata": {
        "id": "aPSwOSVRUBzC"
      }
    },
    {
      "cell_type": "code",
      "source": [
        "df['Item_Type'].value_counts()"
      ],
      "metadata": {
        "colab": {
          "base_uri": "https://localhost:8080/"
        },
        "id": "CeR7X9ncUGhT",
        "outputId": "c13a27f8-aee7-45af-d3d0-c1fc1353f971"
      },
      "execution_count": 17,
      "outputs": [
        {
          "output_type": "execute_result",
          "data": {
            "text/plain": [
              "Fruits and Vegetables    1232\n",
              "Snack Foods              1200\n",
              "Household                 910\n",
              "Frozen Foods              856\n",
              "Dairy                     682\n",
              "Canned                    649\n",
              "Baking Goods              648\n",
              "Health and Hygiene        520\n",
              "Soft Drinks               445\n",
              "Meat                      425\n",
              "Breads                    251\n",
              "Hard Drinks               214\n",
              "Others                    169\n",
              "Starchy Foods             148\n",
              "Breakfast                 110\n",
              "Seafood                    64\n",
              "Name: Item_Type, dtype: int64"
            ]
          },
          "metadata": {},
          "execution_count": 17
        }
      ]
    },
    {
      "cell_type": "markdown",
      "source": [
        "### Outlet Location Type"
      ],
      "metadata": {
        "id": "J9_nvngtUkDU"
      }
    },
    {
      "cell_type": "code",
      "source": [
        "df['Outlet_Location_Type'].value_counts()"
      ],
      "metadata": {
        "colab": {
          "base_uri": "https://localhost:8080/"
        },
        "id": "H4nl7p6vUtlR",
        "outputId": "55ef649d-e47b-404e-be94-e590dd52cf3a"
      },
      "execution_count": 18,
      "outputs": [
        {
          "output_type": "execute_result",
          "data": {
            "text/plain": [
              "Tier 3    3350\n",
              "Tier 2    2785\n",
              "Tier 1    2388\n",
              "Name: Outlet_Location_Type, dtype: int64"
            ]
          },
          "metadata": {},
          "execution_count": 18
        }
      ]
    },
    {
      "cell_type": "markdown",
      "source": [
        "### Outlet Type"
      ],
      "metadata": {
        "id": "ZgaWTjbMUxoy"
      }
    },
    {
      "cell_type": "code",
      "source": [
        "df['Outlet_Type'].value_counts()"
      ],
      "metadata": {
        "colab": {
          "base_uri": "https://localhost:8080/"
        },
        "id": "xZQaQAr-Uzny",
        "outputId": "5251584e-f0b6-4015-a1d7-718fc3141bd3"
      },
      "execution_count": 19,
      "outputs": [
        {
          "output_type": "execute_result",
          "data": {
            "text/plain": [
              "Supermarket Type1    5577\n",
              "Grocery Store        1083\n",
              "Supermarket Type3     935\n",
              "Supermarket Type2     928\n",
              "Name: Outlet_Type, dtype: int64"
            ]
          },
          "metadata": {},
          "execution_count": 19
        }
      ]
    },
    {
      "cell_type": "markdown",
      "source": [
        "## Summary Statistics of Numerical Columns\n",
        "Using `.describe()` is an easy way to obtain multiple statistics from numerical columns.\n",
        "- We'll add `.round()` to round everything to 2 decimal points."
      ],
      "metadata": {
        "id": "DqBDqZCwDW7h"
      }
    },
    {
      "cell_type": "code",
      "source": [
        "df.describe().round(2)"
      ],
      "metadata": {
        "id": "Br8CavQIVRgj",
        "outputId": "aa3c9b01-90c0-439a-c099-f89a1bad8941",
        "colab": {
          "base_uri": "https://localhost:8080/",
          "height": 300
        }
      },
      "execution_count": 20,
      "outputs": [
        {
          "output_type": "execute_result",
          "data": {
            "text/plain": [
              "       Item_Weight  Item_Visibility  Item_MRP  Outlet_Establishment_Year  \\\n",
              "count      8523.00          8523.00   8523.00                    8523.00   \n",
              "mean         12.86             0.07    140.99                    1997.83   \n",
              "std           4.23             0.05     62.28                       8.37   \n",
              "min           4.56             0.00     31.29                    1985.00   \n",
              "25%           9.31             0.03     93.83                    1987.00   \n",
              "50%          12.86             0.05    143.01                    1999.00   \n",
              "75%          16.00             0.09    185.64                    2004.00   \n",
              "max          21.35             0.33    266.89                    2009.00   \n",
              "\n",
              "       Item_Outlet_Sales  \n",
              "count            8523.00  \n",
              "mean             2181.29  \n",
              "std              1706.50  \n",
              "min                33.29  \n",
              "25%               834.25  \n",
              "50%              1794.33  \n",
              "75%              3101.30  \n",
              "max             13086.96  "
            ],
            "text/html": [
              "\n",
              "  <div id=\"df-37d78964-3289-4f3c-b4b1-54154a2947c6\">\n",
              "    <div class=\"colab-df-container\">\n",
              "      <div>\n",
              "<style scoped>\n",
              "    .dataframe tbody tr th:only-of-type {\n",
              "        vertical-align: middle;\n",
              "    }\n",
              "\n",
              "    .dataframe tbody tr th {\n",
              "        vertical-align: top;\n",
              "    }\n",
              "\n",
              "    .dataframe thead th {\n",
              "        text-align: right;\n",
              "    }\n",
              "</style>\n",
              "<table border=\"1\" class=\"dataframe\">\n",
              "  <thead>\n",
              "    <tr style=\"text-align: right;\">\n",
              "      <th></th>\n",
              "      <th>Item_Weight</th>\n",
              "      <th>Item_Visibility</th>\n",
              "      <th>Item_MRP</th>\n",
              "      <th>Outlet_Establishment_Year</th>\n",
              "      <th>Item_Outlet_Sales</th>\n",
              "    </tr>\n",
              "  </thead>\n",
              "  <tbody>\n",
              "    <tr>\n",
              "      <th>count</th>\n",
              "      <td>8523.00</td>\n",
              "      <td>8523.00</td>\n",
              "      <td>8523.00</td>\n",
              "      <td>8523.00</td>\n",
              "      <td>8523.00</td>\n",
              "    </tr>\n",
              "    <tr>\n",
              "      <th>mean</th>\n",
              "      <td>12.86</td>\n",
              "      <td>0.07</td>\n",
              "      <td>140.99</td>\n",
              "      <td>1997.83</td>\n",
              "      <td>2181.29</td>\n",
              "    </tr>\n",
              "    <tr>\n",
              "      <th>std</th>\n",
              "      <td>4.23</td>\n",
              "      <td>0.05</td>\n",
              "      <td>62.28</td>\n",
              "      <td>8.37</td>\n",
              "      <td>1706.50</td>\n",
              "    </tr>\n",
              "    <tr>\n",
              "      <th>min</th>\n",
              "      <td>4.56</td>\n",
              "      <td>0.00</td>\n",
              "      <td>31.29</td>\n",
              "      <td>1985.00</td>\n",
              "      <td>33.29</td>\n",
              "    </tr>\n",
              "    <tr>\n",
              "      <th>25%</th>\n",
              "      <td>9.31</td>\n",
              "      <td>0.03</td>\n",
              "      <td>93.83</td>\n",
              "      <td>1987.00</td>\n",
              "      <td>834.25</td>\n",
              "    </tr>\n",
              "    <tr>\n",
              "      <th>50%</th>\n",
              "      <td>12.86</td>\n",
              "      <td>0.05</td>\n",
              "      <td>143.01</td>\n",
              "      <td>1999.00</td>\n",
              "      <td>1794.33</td>\n",
              "    </tr>\n",
              "    <tr>\n",
              "      <th>75%</th>\n",
              "      <td>16.00</td>\n",
              "      <td>0.09</td>\n",
              "      <td>185.64</td>\n",
              "      <td>2004.00</td>\n",
              "      <td>3101.30</td>\n",
              "    </tr>\n",
              "    <tr>\n",
              "      <th>max</th>\n",
              "      <td>21.35</td>\n",
              "      <td>0.33</td>\n",
              "      <td>266.89</td>\n",
              "      <td>2009.00</td>\n",
              "      <td>13086.96</td>\n",
              "    </tr>\n",
              "  </tbody>\n",
              "</table>\n",
              "</div>\n",
              "      <button class=\"colab-df-convert\" onclick=\"convertToInteractive('df-37d78964-3289-4f3c-b4b1-54154a2947c6')\"\n",
              "              title=\"Convert this dataframe to an interactive table.\"\n",
              "              style=\"display:none;\">\n",
              "        \n",
              "  <svg xmlns=\"http://www.w3.org/2000/svg\" height=\"24px\"viewBox=\"0 0 24 24\"\n",
              "       width=\"24px\">\n",
              "    <path d=\"M0 0h24v24H0V0z\" fill=\"none\"/>\n",
              "    <path d=\"M18.56 5.44l.94 2.06.94-2.06 2.06-.94-2.06-.94-.94-2.06-.94 2.06-2.06.94zm-11 1L8.5 8.5l.94-2.06 2.06-.94-2.06-.94L8.5 2.5l-.94 2.06-2.06.94zm10 10l.94 2.06.94-2.06 2.06-.94-2.06-.94-.94-2.06-.94 2.06-2.06.94z\"/><path d=\"M17.41 7.96l-1.37-1.37c-.4-.4-.92-.59-1.43-.59-.52 0-1.04.2-1.43.59L10.3 9.45l-7.72 7.72c-.78.78-.78 2.05 0 2.83L4 21.41c.39.39.9.59 1.41.59.51 0 1.02-.2 1.41-.59l7.78-7.78 2.81-2.81c.8-.78.8-2.07 0-2.86zM5.41 20L4 18.59l7.72-7.72 1.47 1.35L5.41 20z\"/>\n",
              "  </svg>\n",
              "      </button>\n",
              "      \n",
              "  <style>\n",
              "    .colab-df-container {\n",
              "      display:flex;\n",
              "      flex-wrap:wrap;\n",
              "      gap: 12px;\n",
              "    }\n",
              "\n",
              "    .colab-df-convert {\n",
              "      background-color: #E8F0FE;\n",
              "      border: none;\n",
              "      border-radius: 50%;\n",
              "      cursor: pointer;\n",
              "      display: none;\n",
              "      fill: #1967D2;\n",
              "      height: 32px;\n",
              "      padding: 0 0 0 0;\n",
              "      width: 32px;\n",
              "    }\n",
              "\n",
              "    .colab-df-convert:hover {\n",
              "      background-color: #E2EBFA;\n",
              "      box-shadow: 0px 1px 2px rgba(60, 64, 67, 0.3), 0px 1px 3px 1px rgba(60, 64, 67, 0.15);\n",
              "      fill: #174EA6;\n",
              "    }\n",
              "\n",
              "    [theme=dark] .colab-df-convert {\n",
              "      background-color: #3B4455;\n",
              "      fill: #D2E3FC;\n",
              "    }\n",
              "\n",
              "    [theme=dark] .colab-df-convert:hover {\n",
              "      background-color: #434B5C;\n",
              "      box-shadow: 0px 1px 3px 1px rgba(0, 0, 0, 0.15);\n",
              "      filter: drop-shadow(0px 1px 2px rgba(0, 0, 0, 0.3));\n",
              "      fill: #FFFFFF;\n",
              "    }\n",
              "  </style>\n",
              "\n",
              "      <script>\n",
              "        const buttonEl =\n",
              "          document.querySelector('#df-37d78964-3289-4f3c-b4b1-54154a2947c6 button.colab-df-convert');\n",
              "        buttonEl.style.display =\n",
              "          google.colab.kernel.accessAllowed ? 'block' : 'none';\n",
              "\n",
              "        async function convertToInteractive(key) {\n",
              "          const element = document.querySelector('#df-37d78964-3289-4f3c-b4b1-54154a2947c6');\n",
              "          const dataTable =\n",
              "            await google.colab.kernel.invokeFunction('convertToInteractive',\n",
              "                                                     [key], {});\n",
              "          if (!dataTable) return;\n",
              "\n",
              "          const docLinkHtml = 'Like what you see? Visit the ' +\n",
              "            '<a target=\"_blank\" href=https://colab.research.google.com/notebooks/data_table.ipynb>data table notebook</a>'\n",
              "            + ' to learn more about interactive tables.';\n",
              "          element.innerHTML = '';\n",
              "          dataTable['output_type'] = 'display_data';\n",
              "          await google.colab.output.renderOutput(dataTable, element);\n",
              "          const docLink = document.createElement('div');\n",
              "          docLink.innerHTML = docLinkHtml;\n",
              "          element.appendChild(docLink);\n",
              "        }\n",
              "      </script>\n",
              "    </div>\n",
              "  </div>\n",
              "  "
            ]
          },
          "metadata": {},
          "execution_count": 20
        }
      ]
    },
    {
      "cell_type": "markdown",
      "source": [
        "# Exploratory Data Analysis\n",
        "Now it's time to complete some statistical analyses in order to help us understand, explain, or model with our data. "
      ],
      "metadata": {
        "id": "V7L-f9yJPFeQ"
      }
    },
    {
      "cell_type": "markdown",
      "source": [
        "## Histogram"
      ],
      "metadata": {
        "id": "GAjulWLEUdTK"
      }
    },
    {
      "cell_type": "markdown",
      "source": [
        "### Distribution of Item Weights\n",
        "We can use Matplotlib to create a histogram to give us some insight on the different item weights in our data. \n",
        "\n",
        "Let's start by importing Matplotlib as its common alias, `plt`.\n"
      ],
      "metadata": {
        "id": "Drf8Z54QYAKp"
      }
    },
    {
      "cell_type": "code",
      "source": [
        "import matplotlib.pyplot as plt"
      ],
      "metadata": {
        "id": "sMSeNA4X2bJG"
      },
      "execution_count": 29,
      "outputs": []
    },
    {
      "cell_type": "markdown",
      "source": [
        "We'll start by using `.hist()` on our `Item_Weight` column, and saving it as `ax_hist`.\n",
        "- Adding `bins='auto` lets Matplotlib and Pandas figure out the ideal number of bins for our histogram.\n",
        "- Adding `edgecolor='black'` creates a black outline around the bins.\n",
        "- We can add a title with `.set_title()`\n",
        "- We can label our x-axis and y-axis with `.set_xlabel()` and `.set_ylabel()`."
      ],
      "metadata": {
        "id": "mrM2f5mF2Ofr"
      }
    },
    {
      "cell_type": "code",
      "source": [
        "ax_hist = df['Item_Weight'].hist(bins='auto', edgecolor='black')\n",
        "ax_hist.set_title('Distribution of Item Weights')\n",
        "ax_hist.set_xlabel('Item Weights')\n",
        "ax_hist.set_ylabel('Number of Items');"
      ],
      "metadata": {
        "colab": {
          "base_uri": "https://localhost:8080/",
          "height": 472
        },
        "id": "vRhvn-ioU21r",
        "outputId": "d1c7470c-1dda-4d1f-f42b-cc2dbabf2041"
      },
      "execution_count": 27,
      "outputs": [
        {
          "output_type": "display_data",
          "data": {
            "text/plain": [
              "<Figure size 640x480 with 1 Axes>"
            ],
            "image/png": "[encoded data removed]"
          },
          "metadata": {}
        }
      ]
    },
    {
      "cell_type": "markdown",
      "source": [
        "- The resulting histogram shows us that our item weights are pretty evenly distributed, except for around the 12.5 value range.\n",
        "  - This is because we imputed 1463 missing weight values with 12.86, the average value of the rest of the weights."
      ],
      "metadata": {
        "id": "_zT-8wZSzFVI"
      }
    },
    {
      "cell_type": "markdown",
      "source": [
        "### Distribution of Item Prices\n",
        "We can also create a histogram to show the distribution of item sales.\n",
        "- We will use the same method as above, but for the `Item_Outlet_Sales` column.\n"
      ],
      "metadata": {
        "id": "Iim9SaC1zmuv"
      }
    },
    {
      "cell_type": "code",
      "source": [
        "ax_hist2 = df['Item_Outlet_Sales'].hist(bins='auto', edgecolor='black')\n",
        "ax_hist2.set_title('Distribution of Item Sales')\n",
        "ax_hist2.set_xlabel('Gross Sales')\n",
        "ax_hist2.set_ylabel('Number of Items');"
      ],
      "metadata": {
        "colab": {
          "base_uri": "https://localhost:8080/",
          "height": 472
        },
        "id": "E-ezjVKL0Ie3",
        "outputId": "719c7ec5-767d-459c-fd35-75ef54ee5443"
      },
      "execution_count": 40,
      "outputs": [
        {
          "output_type": "display_data",
          "data": {
            "text/plain": [
              "<Figure size 640x480 with 1 Axes>"
            ],
            "image/png": "[encoded data removed]"
          },
          "metadata": {}
        }
      ]
    },
    {
      "cell_type": "markdown",
      "source": [
        "- The resulting histogram shows us that the majority of product sales were in the 0-2000 range."
      ],
      "metadata": {
        "id": "CjME2mcp0iDp"
      }
    },
    {
      "cell_type": "markdown",
      "source": [
        "## Boxplot\n",
        "We can use Seaborn to create boxplots in order to visualize the distribution of data based on a statistical summary.\n",
        "- (similar to the one we can get from `.describe()`)\n",
        "\n",
        "We'll start by importing Seaborn as its common alias, `sns`."
      ],
      "metadata": {
        "id": "CVb3kxpBUfT9"
      }
    },
    {
      "cell_type": "code",
      "source": [
        "import seaborn as sns"
      ],
      "metadata": {
        "id": "u7oZgJxs2o97"
      },
      "execution_count": 31,
      "outputs": []
    },
    {
      "cell_type": "markdown",
      "source": [
        "Then we, can begin creating our boxplot with `sns.boxplot()` and defining it as ax_box.\n",
        "- We'll add our entire DataFrame as the `data` argument.\n",
        "- We'll set our `Item_Outlet_Sales` as our x-variable.\n",
        "- We'll set our `Outlet_Type` as our y-variable.\n",
        "  - Normally, we'd have these swapped but in this case we want our box plot to be horizontal so it's easier to view.\n",
        "- Then, we'll set the title with `.set_title()`."
      ],
      "metadata": {
        "id": "6xmJI_9I3bam"
      }
    },
    {
      "cell_type": "code",
      "source": [
        "ax_box = sns.boxplot(data=df, x='Item_Outlet_Sales', y='Outlet_Type')\n",
        "ax_box.set_title('Comparing Product Sales at Different Types of Outlets');"
      ],
      "metadata": {
        "colab": {
          "base_uri": "https://localhost:8080/",
          "height": 472
        },
        "id": "7guMMmrA1zda",
        "outputId": "207f163c-f856-4316-9bad-714c2a79dbc8"
      },
      "execution_count": 35,
      "outputs": [
        {
          "output_type": "display_data",
          "data": {
            "text/plain": [
              "<Figure size 640x480 with 1 Axes>"
            ],
            "image/png": "[encoded data removed]"
          },
          "metadata": {}
        }
      ]
    },
    {
      "cell_type": "markdown",
      "source": [
        "- The resulting boxplot shows us that grocery stores have the smallest range of product sales, and tend to have lower product sales than supermarkets.\n",
        "- Product sales seem to do the best in type 3 supermarkets."
      ],
      "metadata": {
        "id": "kT75foMB4G33"
      }
    },
    {
      "cell_type": "markdown",
      "source": [
        "## Heat Map\n",
        "Heat maps help us visualize correlation coefficients between numerical features of data."
      ],
      "metadata": {
        "id": "6RH0gTZkUlmX"
      }
    },
    {
      "cell_type": "markdown",
      "source": [
        "### Calculating Correlation Coefficients\n",
        "We must start by using `.corr()` to calculate correlation coefficients between features of our DataFrame.\n",
        "- Unrelated variables will have a coefficient of `0`.\n",
        "- Positively related variables will have a positive coefficient up to `1`.\n",
        "- Negatively related variables will have a negative coefficient up to `-1`.\n",
        "\n",
        "We can only check coefficients for numerical features, so columns with an object datatype cannot be included."
      ],
      "metadata": {
        "id": "7n2KicVG5IRQ"
      }
    },
    {
      "cell_type": "code",
      "source": [
        "df.dtypes"
      ],
      "metadata": {
        "colab": {
          "base_uri": "https://localhost:8080/"
        },
        "id": "RrU_tgiD6H6d",
        "outputId": "e852d19f-100a-47bd-aa3e-a9fadcfe4637"
      },
      "execution_count": 38,
      "outputs": [
        {
          "output_type": "execute_result",
          "data": {
            "text/plain": [
              "Item_Identifier               object\n",
              "Item_Weight                  float64\n",
              "Item_Fat_Content              object\n",
              "Item_Visibility              float64\n",
              "Item_Type                     object\n",
              "Item_MRP                     float64\n",
              "Outlet_Identifier             object\n",
              "Outlet_Establishment_Year      int64\n",
              "Outlet_Size                   object\n",
              "Outlet_Location_Type          object\n",
              "Outlet_Type                   object\n",
              "Item_Outlet_Sales            float64\n",
              "dtype: object"
            ]
          },
          "metadata": {},
          "execution_count": 38
        }
      ]
    },
    {
      "cell_type": "markdown",
      "source": [
        "We're able to check the correlation coefficients in the `Item_Weight`, `Item_Visibility`, `Item_MRP`, `Outlet_Establishment_Year`, and `Item_Outlet_Sales` columns."
      ],
      "metadata": {
        "id": "gAAUWX466RWB"
      }
    },
    {
      "cell_type": "code",
      "source": [
        "corr = df[['Item_Weight', 'Item_Visibility', 'Item_MRP', 'Outlet_Establishment_Year', 'Item_Outlet_Sales']].corr()"
      ],
      "metadata": {
        "id": "eNHvOr_Q5uaq"
      },
      "execution_count": 43,
      "outputs": []
    },
    {
      "cell_type": "markdown",
      "source": [
        "Now, we'll create our heatmap with `sns.heatmap()`.\n",
        "- We can assign a color to our heatmap with the `cmap` argument.\n",
        "- We can make the coefficient values visible with the `annot=True` argument."
      ],
      "metadata": {
        "id": "5xJULGP_8FQF"
      }
    },
    {
      "cell_type": "code",
      "source": [
        "sns.heatmap(corr, cmap='Greens', annot=True)"
      ],
      "metadata": {
        "colab": {
          "base_uri": "https://localhost:8080/",
          "height": 624
        },
        "id": "56Nr3FiF8bjZ",
        "outputId": "94f3889f-86ef-4c76-a1ec-b1208b10b9fc"
      },
      "execution_count": 44,
      "outputs": [
        {
          "output_type": "execute_result",
          "data": {
            "text/plain": [
              "<Axes: >"
            ]
          },
          "metadata": {},
          "execution_count": 44
        },
        {
          "output_type": "display_data",
          "data": {
            "text/plain": [
              "<Figure size 640x480 with 2 Axes>"
            ],
            "image/png": "[encoded data removed]"
          },
          "metadata": {}
        }
      ]
    },
    {
      "cell_type": "markdown",
      "source": [
        "The only features that have a correlation are item prices and item sales, with a moderate correlation of 0.57."
      ],
      "metadata": {
        "id": "IsHS2Dqb8qar"
      }
    },
    {
      "cell_type": "markdown",
      "source": [
        "# Explanatory Data Analysis"
      ],
      "metadata": {
        "id": "VxjDcG-EPHjV"
      }
    }
  ]
}